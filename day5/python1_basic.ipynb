{
 "cells": [
  {
   "cell_type": "markdown",
   "metadata": {},
   "source": [
    "### 자료형\n",
    "##### 1. 숫자형\n",
    "- 정수, 실수, 복소수, 8진수, 16진수"
   ]
  },
  {
   "cell_type": "code",
   "execution_count": 1,
   "metadata": {},
   "outputs": [
    {
     "name": "stdout",
     "output_type": "stream",
     "text": [
      "123\n",
      "-3.14\n",
      "(1+2j)\n"
     ]
    }
   ],
   "source": [
    "a = 123\n",
    "b = -3.14\n",
    "c = 1 + 2j  #i가 아닌 j로 복소수 인식\n",
    "print(a)\n",
    "print(b)\n",
    "print(c)"
   ]
  },
  {
   "cell_type": "markdown",
   "metadata": {},
   "source": [
    "##### 2.문자열\n",
    "- 큰따옴표, 작은따옴표 모두 사용 가능"
   ]
  },
  {
   "cell_type": "code",
   "execution_count": 2,
   "metadata": {},
   "outputs": [
    {
     "name": "stdout",
     "output_type": "stream",
     "text": [
      "Hello World!Python!\n",
      "Hello World!Hello World!\n"
     ]
    }
   ],
   "source": [
    "a = \"Hello World!\"\n",
    "b = 'Python!'\n",
    "print(a + b)\n",
    "print(a*2)"
   ]
  },
  {
   "cell_type": "markdown",
   "metadata": {},
   "source": [
    "##### 3. 문자열 인덱싱과 슬라이싱\n",
    "- 파이썬은 0부터 인덱스 사용"
   ]
  },
  {
   "cell_type": "code",
   "execution_count": 3,
   "metadata": {},
   "outputs": [
    {
     "name": "stdout",
     "output_type": "stream",
     "text": [
      "P\n",
      "n\n",
      "Pyth\n",
      "Pyt\n",
      "Pyth\n"
     ]
    }
   ],
   "source": [
    "a = \"Python\"\n",
    "print(a[0])\n",
    "print(a[-1])\n",
    "print(a[0:4])\n",
    "print(a[:3])\n",
    "print(a[:-2])"
   ]
  },
  {
   "cell_type": "markdown",
   "metadata": {},
   "source": [
    "##### 4. 리스트(List)"
   ]
  },
  {
   "cell_type": "code",
   "execution_count": 4,
   "metadata": {},
   "outputs": [
    {
     "name": "stdout",
     "output_type": "stream",
     "text": [
      "1\n",
      "too\n",
      "[2, 'Life']\n",
      "Life\n"
     ]
    }
   ],
   "source": [
    "a = []\n",
    "b = [1, 2, 3, 5]\n",
    "c = ['Life', 'is', 'too', 'short']\n",
    "d = [1, 2, 'Life', 'is', 3]\n",
    "e = [1, 2, ['Life', 'is']]\n",
    "print(b[0])\n",
    "print(c[-2])\n",
    "print(d[1:3])\n",
    "print(e[2][0])"
   ]
  },
  {
   "cell_type": "markdown",
   "metadata": {},
   "source": [
    "##### 5. 튜플(tuple)\n",
    "- 튜플은 값의 삭제, 수정이 불가"
   ]
  },
  {
   "cell_type": "code",
   "execution_count": 5,
   "metadata": {},
   "outputs": [
    {
     "name": "stdout",
     "output_type": "stream",
     "text": [
      "()\n",
      "(1,)\n",
      "(2,)\n",
      "(1, 2, 3, 1, 2, 3)\n"
     ]
    }
   ],
   "source": [
    "a = ()\n",
    "b = (1, )  #단지 1개의 요소를 가질 대는 요소 뒤에 반드시 콤마를 붙여야 함\n",
    "c = 1, 2, 3 #괄호 생략 가능\n",
    "print(a)\n",
    "print(b)\n",
    "print(c[1:2])\n",
    "print(c*2)"
   ]
  },
  {
   "cell_type": "markdown",
   "metadata": {},
   "source": [
    "##### 6. 딕셔너리(Dictionary)"
   ]
  },
  {
   "cell_type": "code",
   "execution_count": 6,
   "metadata": {},
   "outputs": [
    {
     "name": "stdout",
     "output_type": "stream",
     "text": [
      "kim\n",
      "31\n"
     ]
    }
   ],
   "source": [
    "dic = {'name':'kim', 'age':31, 'tel':'1234-5678'}\n",
    "print(dic['name'])\n",
    "print(dic.get('age'))"
   ]
  },
  {
   "cell_type": "markdown",
   "metadata": {},
   "source": [
    "##### 7. 집합(Set)"
   ]
  },
  {
   "cell_type": "code",
   "execution_count": 7,
   "metadata": {},
   "outputs": [
    {
     "name": "stdout",
     "output_type": "stream",
     "text": [
      "{1, 2, 3}\n"
     ]
    }
   ],
   "source": [
    "s1 = set([1,2,3,3,])\n",
    "print(s1)"
   ]
  },
  {
   "cell_type": "markdown",
   "metadata": {},
   "source": [
    "### 제어구조\n",
    "- IF\n",
    "- for, while"
   ]
  },
  {
   "cell_type": "code",
   "execution_count": 8,
   "metadata": {},
   "outputs": [
    {
     "name": "stdout",
     "output_type": "stream",
     "text": [
      "*****\n",
      "****\n",
      "***\n",
      "**\n",
      "*\n"
     ]
    }
   ],
   "source": [
    "for i in range(1,6):\n",
    "    print('*'*(6-i))"
   ]
  },
  {
   "cell_type": "code",
   "execution_count": 9,
   "metadata": {},
   "outputs": [
    {
     "name": "stdout",
     "output_type": "stream",
     "text": [
      "*****\n",
      "****\n",
      "***\n",
      "**\n",
      "*\n"
     ]
    }
   ],
   "source": [
    "n = 5\n",
    "while n>0:\n",
    "    print('*'*(n))\n",
    "    n=n-1"
   ]
  },
  {
   "cell_type": "markdown",
   "metadata": {},
   "source": [
    "### 클래스"
   ]
  },
  {
   "cell_type": "code",
   "execution_count": 10,
   "metadata": {},
   "outputs": [
    {
     "name": "stdout",
     "output_type": "stream",
     "text": [
      "The number of the dice is 6\n"
     ]
    }
   ],
   "source": [
    "import random\n",
    "class Dice:\n",
    "    def __Init__(self, num=1):\n",
    "        self.number = num\n",
    "    def roll(self):\n",
    "        self.number = random.choice(range(1,7))\n",
    "    def getDice(self):\n",
    "        return self.number\n",
    "    def __str__(self):\n",
    "        return str(self.number)\n",
    "\n",
    "a = Dice()\n",
    "a.roll()\n",
    "print(\"The number of the dice is %d\"%a.getDice())"
   ]
  },
  {
   "cell_type": "code",
   "execution_count": 11,
   "metadata": {},
   "outputs": [
    {
     "name": "stdout",
     "output_type": "stream",
     "text": [
      "result of A is lose\n"
     ]
    }
   ],
   "source": [
    "class Dice:\n",
    "    def __Init__(self, num=1):\n",
    "        self.number = num\n",
    "    def roll(self):\n",
    "        self.number = random.choice(range(1,7))\n",
    "    def getDice(self):\n",
    "        return self.number\n",
    "    def __str__(self):\n",
    "        return str(self.number)\n",
    "    def win(self, other):\n",
    "        if self.number>other.number:\n",
    "            return \"win\"\n",
    "        elif self.getDice()<other.getDice():\n",
    "            return \"lose\"\n",
    "        else:\n",
    "            return \"tie\"\n",
    "a = Dice()\n",
    "b = Dice()\n",
    "a.roll()\n",
    "b.roll()\n",
    "print(\"result of A is %s\"%a.win(b))"
   ]
  },
  {
   "cell_type": "code",
   "execution_count": 12,
   "metadata": {},
   "outputs": [
    {
     "name": "stdout",
     "output_type": "stream",
     "text": [
      "0.3073\n"
     ]
    }
   ],
   "source": [
    "count = 0\n",
    "a = Dice()\n",
    "b = Dice()\n",
    "for i in range(1, 10001):\n",
    "    a.roll()\n",
    "    b.roll()\n",
    "    if a.getDice() + b.getDice() == 7 or a.getDice() + b.getDice() == 8 :\n",
    "        count = count+1\n",
    "print(count/10000)"
   ]
  },
  {
   "cell_type": "markdown",
   "metadata": {},
   "source": [
    "### 모듈(Module)과 패키지(Package)\n",
    "- 모듈 : 함수나 변수 또는 클래스들을 모아 놓은 파일\n",
    "- 패키지 : 도트(.)를 이용하여 파이썬 모듈을 계층적으로 관리 가능함"
   ]
  },
  {
   "cell_type": "raw",
   "metadata": {},
   "source": [
    "import mod1\n",
    "from mod1 import sum\n",
    "from mod1 import Dice"
   ]
  },
  {
   "cell_type": "raw",
   "metadata": {},
   "source": [
    "import game.sound.echo\n",
    "from game.sound.echo import echo_test"
   ]
  },
  {
   "cell_type": "markdown",
   "metadata": {},
   "source": [
    "### Numpy\n",
    "- Numerical Python의 줄임말\n",
    "- 고성능 과학계산 컴퓨팅과 데이터 분석에 사용하는 패키지\n",
    "- 빠르고 메모리를 효율적으로 사용하여 벡터 산술연산 세련된 브로드캐스팅 기능을 제공하는 다차원 배열인 ndarray\n",
    "- 반복문을 작성할 필요 없이 전체 데이터 배열에 대해 연산을 제공하는 표준 수학 함수\n",
    "- 배열 데이터를 디스크에 쓰거나 읽을 수 있는 도구와 메모리에 올려진 파일을 사용하는 도구\n",
    "- 선형대수, 난수 발생기, 푸리에 변환 기능 제공\n",
    "- C, C++, 포트란으로 쓰여진 코드를 통합하는 도구"
   ]
  },
  {
   "cell_type": "code",
   "execution_count": 13,
   "metadata": {},
   "outputs": [
    {
     "name": "stdout",
     "output_type": "stream",
     "text": [
      "[[-0.27885134  0.32887769 -0.92952319]\n",
      " [-0.41053142 -0.24211879  0.3418197 ]]\n",
      "(2, 3)\n",
      "float64\n"
     ]
    }
   ],
   "source": [
    "# Numpy ndarry : 다차원 배열 객체\n",
    "import numpy as np\n",
    "data = np.random.randn(2, 3)\n",
    "print(data)\n",
    "print(data.shape)\n",
    "print(data.dtype)"
   ]
  }
 ],
 "metadata": {
  "kernelspec": {
   "display_name": "Python 3",
   "language": "python",
   "name": "python3"
  },
  "language_info": {
   "codemirror_mode": {
    "name": "ipython",
    "version": 3
   },
   "file_extension": ".py",
   "mimetype": "text/x-python",
   "name": "python",
   "nbconvert_exporter": "python",
   "pygments_lexer": "ipython3",
   "version": "3.5.3"
  }
 },
 "nbformat": 4,
 "nbformat_minor": 2
}
