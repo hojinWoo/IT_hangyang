{
 "cells": [
  {
   "cell_type": "markdown",
   "metadata": {},
   "source": [
    "### 합성곱 신경망과 딥러닝\n",
    "##### 1. 구조\n",
    "- 기존 신경망\n",
    "    - fully-connected\n",
    "    - Affine 계층 사용\n",
    "- CNN\n",
    "    - **convolution layer**\n",
    "        - convolution layer은 형상을 유지 (3차원 → 3차원)\n",
    "        - 입출력 데이터를 feature map 이라고 함 (input/output feature map)\n",
    "        - 필터(커널) 연산\n",
    "    - **pooling layer**"
   ]
  },
  {
   "cell_type": "markdown",
   "metadata": {},
   "source": [
    "##### 2 합성곱 계층(convolution layer)\n",
    "- 편향 : 필터를 적용 후 더함\n",
    "- 패딩(padding)\n",
    "    - 입력 데이터 주변을 특정 값으로 채움(ex. 0)\n",
    "    - 출력 크기를 조정할 목적으로 사용\n",
    "- 스트라이드(stride)\n",
    "    - 윈도우를 stride만큼 이동\n",
    "- 합성곱 연산 시 **입력 데이터의 채널 수와 필터의 수가 같아야 함**\n",
    "\n",
    "##### 3. 풀링 계층(pooling layer)\n",
    "- 세로, 가로 방향의 공간을 줄이는 연산\n",
    "- 2*2의 최대 풀링(max pooling)을 stride 2로 처리하는 순서\n",
    "- 학습해야 할 매개변수가 없다\n",
    "- 채널 수가 변하지 않는다\n",
    "- 입력의 변화에 영향을 적게 받는다"
   ]
  },
  {
   "cell_type": "markdown",
   "metadata": {},
   "source": [
    "### 텐서(Tensor)\n",
    "- 스칼라(0D tensor)\n",
    "- 벡터(1D tensor)\n",
    "- 행렬(2D tensor)\n",
    "- 시계열데이터(3D tensor) - (samples, timestamps, features)\n",
    "- 이미지(4D tensor) - (samples, height, width, channels)\n",
    "- 동영상(5D tensor) - (samples, frames, height, width, channels)\n",
    "\n",
    "### [Keras](https://talkingaboutme.tistory.com/844)\n",
    "- tensorflow에 비해 코드 최소화 및 객관적 표현에 초점\n",
    "- Sequential model vs Functional API\n",
    "    - Sequential model : layer를 순차적으로 쌓는 모델\n",
    "    - Functional API     : 다중 출력, 비순환 그래프 모델, 레이어 공유 등 복잡한 구조의 모델 정의에 활용 "
   ]
  },
  {
   "cell_type": "code",
   "execution_count": 1,
   "metadata": {},
   "outputs": [
    {
     "name": "stderr",
     "output_type": "stream",
     "text": [
      "Using TensorFlow backend.\n"
     ]
    }
   ],
   "source": [
    "## $pip install tensorflow\n",
    "## $conda install scipy\n",
    "## $pip install keras\n",
    "## $pip install h5py\n",
    "\n",
    "# sequential model ex\n",
    "# 생성할 신경망 모델 구조\n",
    "from keras.models import Sequential\n",
    "model = Sequential()\n",
    "# Using TensorFlow backend. : 정상 설치 문구"
   ]
  },
  {
   "cell_type": "raw",
   "metadata": {},
   "source": [
    "# 신경망 레이어 쌓기\n",
    "from keras.layers import Dense, Activation\n",
    "model.add(Dense(units=64, input_dim=100)) #현재 dense를 통해 만들 hidden layer의 node의 수\n",
    "model.add(Activation('relu'))\n",
    "model.add(Dense(units=10))\n",
    "model.add(Activation('softmax'))"
   ]
  },
  {
   "cell_type": "raw",
   "metadata": {},
   "source": [
    "# 손실함수, 최적화 알고리즘의 모델 학습 정의\n",
    "model.compile(loss='categorical_crossentropy', optimizer='sgd', metrics=['accuracy'])"
   ]
  },
  {
   "cell_type": "raw",
   "metadata": {},
   "source": [
    "# 모델 학습하기, 'epoch', 'batch' 크기 정의\n",
    "model.fit(x_train, y_train, epochs=5, batch_size=32)"
   ]
  },
  {
   "cell_type": "raw",
   "metadata": {},
   "source": [
    "# 모델 평가하기\n",
    "loss_and_metrics = model.evaluate(x_test, y_test, batch_size=128)"
   ]
  },
  {
   "cell_type": "markdown",
   "metadata": {},
   "source": [
    "##### 신경망 레이어\n",
    "- Dense\n",
    "- Activation\n",
    "- Dropout\n",
    "- BachNormalization\n",
    "- Convolution2D\n",
    "- Maxpooling2D\n",
    "- LSTM, SimpleRNN, GRU"
   ]
  },
  {
   "cell_type": "markdown",
   "metadata": {},
   "source": [
    "##### 기초 함수\n",
    "1. Dense의 입력 및 출력\n",
    "    - output_dim : 출력 개수\n",
    "    - input_dim : 입력 개수\n",
    "    - input_shape : 입력 형상\n",
    "2. Activation 함수\n",
    "    - softmax\n",
    "    - relu\n",
    "    - tahn\n",
    "    - sigmoid\n",
    "    - hard_sigmoid\n",
    "3. Optimizer 함수\n",
    "    - SGD\n",
    "    - RMSprop\n",
    "    - Adam\n",
    "    - Adadelta\n",
    "    - Adamax\n",
    "    - Nadam\n",
    "4. loss 함수\n",
    "    - mean_squared_error\n",
    "    - binary_crossentropy\n",
    "    - categorical_crossentropy\n",
    "    - sparse_categorical_crossentropy\n",
    "\n",
    "**모델 학습 (model.fit())**\n",
    "- x : 입력 데이터\n",
    "- y : 출력 데이터\n",
    "- batch_size : 배치크기\n",
    "- nb_epoch : 학습 epoch 횟수\n",
    "- validation_split : 0~1사이 실수 (검증 용도로 사용할 데이터 비율)\n",
    "- validation_data(x, y) : 검증 데이터\n",
    "- shuffle : epoch마다 샘플 섞을 지 여부\n",
    "- verbose : 0(없음), 1(진행바), 2(epoch 당)\n",
    "\n",
    "**모델 평가 : model.evaluate()**\n",
    "- x : 테스트 입력 데이터\n",
    "- y : 테스트 출력 데이터\n",
    "- loss, acc 값 출력\n",
    "\n",
    "**모델 예측 : model.predict()**\n",
    "\n",
    "**모델 정보 : model.summary()**"
   ]
  },
  {
   "cell_type": "code",
   "execution_count": 10,
   "metadata": {},
   "outputs": [
    {
     "name": "stdout",
     "output_type": "stream",
     "text": [
      "60000 train samples\n",
      "10000 test samples\n",
      "Train on 50000 samples, validate on 10000 samples\n",
      "Epoch 1/10\n",
      "50000/50000 [==============================] - 20s 398us/step - loss: 0.2782 - acc: 0.9159 - val_loss: 0.1173 - val_acc: 0.9644\n",
      "Epoch 2/10\n",
      "50000/50000 [==============================] - 21s 413us/step - loss: 0.1131 - acc: 0.9657 - val_loss: 0.0887 - val_acc: 0.9710\n",
      "Epoch 3/10\n",
      "50000/50000 [==============================] - 22s 438us/step - loss: 0.0786 - acc: 0.9751 - val_loss: 0.0808 - val_acc: 0.9742\n",
      "Epoch 4/10\n",
      "50000/50000 [==============================] - 19s 380us/step - loss: 0.0581 - acc: 0.9811 - val_loss: 0.0730 - val_acc: 0.9789\n",
      "Epoch 5/10\n",
      "50000/50000 [==============================] - 19s 384us/step - loss: 0.0480 - acc: 0.9840 - val_loss: 0.0792 - val_acc: 0.9780\n",
      "Epoch 6/10\n",
      "50000/50000 [==============================] - 20s 397us/step - loss: 0.0424 - acc: 0.9862 - val_loss: 0.0712 - val_acc: 0.9782\n",
      "Epoch 7/10\n",
      "50000/50000 [==============================] - 21s 421us/step - loss: 0.0352 - acc: 0.9889 - val_loss: 0.0754 - val_acc: 0.9767\n",
      "Epoch 8/10\n",
      "50000/50000 [==============================] - 19s 377us/step - loss: 0.0308 - acc: 0.9895 - val_loss: 0.0763 - val_acc: 0.9786\n",
      "Epoch 9/10\n",
      "50000/50000 [==============================] - 20s 396us/step - loss: 0.0292 - acc: 0.9902 - val_loss: 0.0728 - val_acc: 0.9813\n",
      "Epoch 10/10\n",
      "50000/50000 [==============================] - 24s 471us/step - loss: 0.0243 - acc: 0.9920 - val_loss: 0.0780 - val_acc: 0.9800\n",
      "Test loss: 0.0725243221318\n",
      "Test accuracy: 0.9803\n",
      "_________________________________________________________________\n",
      "Layer (type)                 Output Shape              Param #   \n",
      "=================================================================\n",
      "dense_3 (Dense)              (None, 512)               401920    \n",
      "_________________________________________________________________\n",
      "dropout_1 (Dropout)          (None, 512)               0         \n",
      "_________________________________________________________________\n",
      "dense_4 (Dense)              (None, 512)               262656    \n",
      "_________________________________________________________________\n",
      "dropout_2 (Dropout)          (None, 512)               0         \n",
      "_________________________________________________________________\n",
      "dense_5 (Dense)              (None, 10)                5130      \n",
      "=================================================================\n",
      "Total params: 669,706\n",
      "Trainable params: 669,706\n",
      "Non-trainable params: 0\n",
      "_________________________________________________________________\n",
      "None\n"
     ]
    },
    {
     "data": {
      "image/png": "[encoded data removed]",
      "text/plain": [
       "<matplotlib.figure.Figure at 0x1b4136a2f28>"
      ]
     },
     "metadata": {},
     "output_type": "display_data"
    },
    {
     "data": {
      "image/png": "[encoded data removed]",
      "text/plain": [
       "<matplotlib.figure.Figure at 0x1b413665c18>"
      ]
     },
     "metadata": {},
     "output_type": "display_data"
    }
   ],
   "source": [
    "#Lab 1\n",
    "\n",
    "import keras\n",
    "from keras.datasets import mnist #mnist data 가져오기\n",
    "from keras.models import Sequential\n",
    "from keras.layers import Dense, Dropout\n",
    "import matplotlib.pyplot as plt\n",
    "\n",
    "batch_size = 128\n",
    "num_classes = 10\n",
    "epochs = 10\n",
    "\n",
    "(x_train, y_train), (x_test, y_test) = mnist.load_data()\n",
    "\n",
    "### 데이터 전처리 ###\n",
    "x_train = x_train.reshape(60000, 784) #28*28 > 784\n",
    "x_test = x_test.reshape(10000, 784)\n",
    "x_train = x_train.astype('float32')\n",
    "x_test = x_test.astype('float32')\n",
    "x_train /= 255\n",
    "x_test /= 255\n",
    "print(x_train.shape[0], 'train samples')\n",
    "print(x_test.shape[0], 'test samples')\n",
    "\n",
    "y_train = keras.utils.to_categorical(y_train, num_classes)\n",
    "y_test = keras.utils.to_categorical(y_test, num_classes)\n",
    "\n",
    "x_val=x_train[:10000]\n",
    "partial_x_train=x_train[10000:]\n",
    "y_val = y_train[:10000]\n",
    "partial_y_train = y_train[10000:]\n",
    "\n",
    "### 모델 구조 정의 ###\n",
    "model = Sequential()\n",
    "model.add(Dense(512, activation='relu', input_shape=(784,)))\n",
    "model.add(Dropout(0.2))\n",
    "model.add(Dense(512, activation='relu'))\n",
    "model.add(Dropout(0.2))\n",
    "model.add(Dense(10, activation='softmax'))\n",
    "\n",
    "### 학습 ###\n",
    "model.compile(loss='categorical_crossentropy',\n",
    "              metrics=['accuracy'],\n",
    "              optimizer='adam')\n",
    "history = model.fit(partial_x_train, partial_y_train,\n",
    "                    batch_size=batch_size, epochs=epochs,\n",
    "                    verbose=1, validation_data=(x_val, y_val))\n",
    "\n",
    "score = model.evaluate(x_test, y_test, verbose=0)\n",
    "print('Test loss:', score[0])\n",
    "print('Test accuracy:', score[1])\n",
    "\n",
    "print(model.summary())\n",
    "\n",
    "# graph\n",
    "\n",
    "acc = history.history['acc']\n",
    "val_acc = history.history['val_acc']\n",
    "loss = history.history['loss']\n",
    "val_loss = history.history['val_loss']\n",
    "\n",
    "epochs = range(1, len(acc) + 1)\n",
    "\n",
    "# ‘bo’는 파란색 점을 의미합니다\n",
    "plt.plot(epochs, loss, 'bo', label='Training loss')\n",
    "# ‘b’는 파란색 실선을 의미합니다\n",
    "plt.plot(epochs, val_loss, 'b', label='Validation loss')\n",
    "plt.title('Training and validation loss')\n",
    "plt.xlabel('Epochs')\n",
    "plt.ylabel('Loss')\n",
    "plt.legend()\n",
    "\n",
    "plt.figure()\n",
    "\n",
    "plt.plot(epochs, acc, 'bo', label='Training acc')\n",
    "plt.plot(epochs, val_acc, 'b', label='Validation acc')\n",
    "plt.title('Training and validation accuracy')\n",
    "plt.xlabel('Epochs')\n",
    "plt.ylabel('Accuracy')\n",
    "plt.legend()\n",
    "\n",
    "plt.show()"
   ]
  },
  {
   "cell_type": "code",
   "execution_count": null,
   "metadata": {
    "collapsed": true
   },
   "outputs": [],
   "source": [
    "### 보스턴 주택 가격 예측하기\n",
    "from keras.datasets import boston_housing\n",
    "from keras import models\n",
    "from keras import layers\n",
    "import numpy as np\n",
    "import matplotlib.pyplot as plt\n",
    "\n",
    "num_epochs = 20\n",
    "bath_size = 1\n",
    "\n",
    "(train_data, train_targets), (test_data, test_targets) =  boston_housing.load_data()\n",
    "train_data.shape\n",
    "test_data.shape\n",
    "train_targets\n",
    "\n",
    "# 데이터 준비\n",
    "mean = train_data.mean(axis=0)\n",
    "train_data -= mean\n",
    "std = train_data.std(axis=0)\n",
    "train_data /= std\n",
    "\n",
    "test_data -= mean\n",
    "test_data /= std\n",
    "\n",
    "val_data = train_data[:100]\n",
    "partial_train_data = train_data[100:]\n",
    "val_targets = train_targets[:100]\n",
    "partial_train_targets = train_targets[100:]\n",
    "\n",
    "model = models.Sequential()\n",
    "model.add(layers.Dense(64, activation='relu',\n",
    "                       input_shape=(train_data.shape[1],)))\n",
    "model.add(layers.Dense(64, activation='relu'))\n",
    "model.add(layers.Dense(1))\n",
    "model.compile(optimizer='rmsprop', loss='mse', metrics=['mae'])\n",
    "\n",
    "## 학습 및 모델 평가 ##\n",
    "history=model.fit(partial_train_data, partial_train_targets,\n",
    "              epochs=num_epochs, batch_size=1, verbose=1,validation_data=(val_data,val_targets))\n",
    "\n",
    "score = model.evaluate(test_data, test_targets, verbose=0)\n",
    "print('Test loss:', score[0])\n",
    "print('Test accuracy:', score[1])\n",
    "print(model.summary())\n",
    "\n",
    "#graph\n",
    "train_mae = history.history['mean_absolute_error']\n",
    "train_loss = history.history['loss']\n",
    "val_mae = history.history['val_mean_absolute_error']\n",
    "val_loss = history.history['val_loss']\n",
    "\n",
    "epochs = range(1, len(train_mae) + 1)\n",
    "\n",
    "# ‘bo’는 파란색 점을 의미합니다\n",
    "plt.plot(epochs, train_loss, 'bo', label='Training loss')\n",
    "# ‘b’는 파란색 실선을 의미합니다\n",
    "plt.plot(epochs, val_loss, 'b', label='Validation loss')\n",
    "plt.title('Training and validation loss')\n",
    "plt.xlabel('Epochs')\n",
    "plt.ylabel('Loss')\n",
    "plt.legend()\n",
    "\n",
    "plt.figure()\n",
    "plt.plot(epochs, train_mae, 'bo', label='Training MAE')\n",
    "plt.plot(epochs, val_mae, 'b', label='Validation MAE')\n",
    "plt.title('Training and validation MAE')\n",
    "plt.xlabel('Epochs')\n",
    "plt.ylabel('MAE')\n",
    "plt.legend()\n",
    "plt.show()"
   ]
  },
  {
   "cell_type": "code",
   "execution_count": null,
   "metadata": {
    "collapsed": true
   },
   "outputs": [],
   "source": []
  },
  {
   "cell_type": "code",
   "execution_count": null,
   "metadata": {
    "collapsed": true
   },
   "outputs": [],
   "source": []
  },
  {
   "cell_type": "code",
   "execution_count": null,
   "metadata": {
    "collapsed": true
   },
   "outputs": [],
   "source": []
  }
 ],
 "metadata": {
  "kernelspec": {
   "display_name": "Python 3",
   "language": "python",
   "name": "python3"
  },
  "language_info": {
   "codemirror_mode": {
    "name": "ipython",
    "version": 3
   },
   "file_extension": ".py",
   "mimetype": "text/x-python",
   "name": "python",
   "nbconvert_exporter": "python",
   "pygments_lexer": "ipython3",
   "version": "3.5.3"
  }
 },
 "nbformat": 4,
 "nbformat_minor": 2
}
