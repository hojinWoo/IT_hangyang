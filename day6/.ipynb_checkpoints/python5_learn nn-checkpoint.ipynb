{
 "cells": [
  {
   "cell_type": "markdown",
   "metadata": {},
   "source": [
    "### 2. [신경망 학습](https://everyday-deeplearning.tistory.com/entry/%ED%8C%8C%EC%9D%B4%EC%8D%AC%EC%9C%BC%EB%A1%9C-%EB%94%A5%EB%9F%AC%EB%8B%9D%ED%95%98%EA%B8%B0-%EC%86%90%EC%8B%A4%ED%95%A8%EC%88%98-%ED%8F%89%EA%B7%A0%EC%A0%9C%EA%B3%B1%EC%98%A4%EC%B0%A8MSE-%EA%B5%90%EC%B0%A8-%EC%97%94%ED%8A%B8%EB%A1%9C%ED%94%BC-%EC%98%A4%EC%B0%A8CEE)\n",
    "##### 1. 데이터에서 학습하기\n",
    "- 인공신경망에서 weight, bias는 parameter로 부른다 (학습을 통해 알고리즘이 스스로 결정하기 때문)\n",
    "- 직접 결정하지 못하는 것은 hyper parameter > layer 개수, 노드의 개수 등\n",
    "- 과적합(overfitting) 피하기\n",
    "\n",
    "##### 2. 손실함수 (loss function) \n",
    "- 평균 제곱 오차 (MSE)\n",
    "- 교차 엔트로피 오차 (CCE)"
   ]
  },
  {
   "cell_type": "code",
   "execution_count": 3,
   "metadata": {},
   "outputs": [
    {
     "name": "stdout",
     "output_type": "stream",
     "text": [
      "0.0975\n",
      "0.5975\n"
     ]
    }
   ],
   "source": [
    "import numpy as np\n",
    "def mean_squared_error(y, t):\n",
    "    return 0.5*np.sum((y-t)**2)\n",
    "\n",
    "# 0~9\n",
    "t = [0, 0, 1, 0, 0, 0, 0, 0, 0, 0] #정답 2\n",
    "\n",
    "y = [0.1, 0.05, 0.6, 0, 0.05, 0.1, 0, 0.1, 0, 0] # 2일 확률이 가장 높다고 추정\n",
    "\n",
    "print(mean_squared_error(np.array(y), np.array(t))) #형식 변경 필요\n",
    "\n",
    "y = [0.1, 0.05, 0.1, 0, 0.05, 0.1, 0, 0.6, 0, 0] # 7일 확률이 가장 높다고 추정\n",
    "print(mean_squared_error(np.array(y), np.array(t)) )"
   ]
  },
  {
   "cell_type": "markdown",
   "metadata": {},
   "source": [
    "##### 3. 수치미분\n",
    "\n",
    "##### 4. 기울기\n",
    "\n",
    "##### 5. 학습 알고리즘 구현하기"
   ]
  },
  {
   "cell_type": "code",
   "execution_count": null,
   "metadata": {
    "collapsed": true
   },
   "outputs": [],
   "source": []
  },
  {
   "cell_type": "code",
   "execution_count": null,
   "metadata": {
    "collapsed": true
   },
   "outputs": [],
   "source": []
  },
  {
   "cell_type": "code",
   "execution_count": null,
   "metadata": {
    "collapsed": true
   },
   "outputs": [],
   "source": []
  }
 ],
 "metadata": {
  "kernelspec": {
   "display_name": "Python 3",
   "language": "python",
   "name": "python3"
  },
  "language_info": {
   "codemirror_mode": {
    "name": "ipython",
    "version": 3
   },
   "file_extension": ".py",
   "mimetype": "text/x-python",
   "name": "python",
   "nbconvert_exporter": "python",
   "pygments_lexer": "ipython3",
   "version": "3.5.3"
  }
 },
 "nbformat": 4,
 "nbformat_minor": 2
}
