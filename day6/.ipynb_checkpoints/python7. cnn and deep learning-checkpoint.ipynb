{
 "cells": [
  {
   "cell_type": "markdown",
   "metadata": {},
   "source": [
    "### 합성곱 신경망과 딥러닝\n",
    "##### 1. 구조\n",
    "- 기존 신경망\n",
    "    - fully-connected\n",
    "    - Affine 계층 사용\n",
    "- CNN\n",
    "    - **convolution layer**\n",
    "        - convolution layer은 형상을 유지 (3차원 → 3차원)\n",
    "        - 입출력 데이터를 feature map 이라고 함 (input/output feature map)\n",
    "        - 필터(커널) 연산\n",
    "    - **pooling layer**"
   ]
  },
  {
   "cell_type": "markdown",
   "metadata": {},
   "source": [
    "##### 2 합성곱 계층(convolution layer)\n",
    "- 편향 : 필터를 적용 후 더함\n",
    "- 패딩(padding)\n",
    "    - 입력 데이터 주변을 특정 값으로 채움(ex. 0)\n",
    "    - 출력 크기를 조정할 목적으로 사용\n",
    "- 스트라이드(stride)\n",
    "    - 윈도우를 stride만큼 이동\n",
    "- 합성곱 연산 시 **입력 데이터의 채널 수와 필터의 수가 같아야 함**\n",
    "\n",
    "##### 3. 풀링 계층(pooling layer)\n",
    "- 세로, 가로 방향의 공간을 줄이는 연산\n",
    "- 2*2의 최대 풀링(max pooling)을 stride 2로 처리하는 순서\n",
    "- 학습해야 할 매개변수가 없다\n",
    "- 채널 수가 변하지 않는다\n",
    "- 입력의 변화에 영향을 적게 받는다"
   ]
  },
  {
   "cell_type": "markdown",
   "metadata": {},
   "source": [
    "### 텐서(Tensor)\n",
    "- 스칼라(0D tensor)\n",
    "- 벡터(1D tensor)\n",
    "- 행렬(2D tensor)\n",
    "- 시계열데이터(3D tensor) - (samples, timestamps, features)\n",
    "- 이미지(4D tensor) - (samples, height, width, channels)\n",
    "- 동영상(5D tensor) - (samples, frames, height, width, channels)\n",
    "\n",
    "### Keras\n",
    "- tensorflow에 비해 코드 최소화 및 객관적 표현에 초점\n",
    "- Sequential model vs Functional API\n",
    "    - Sequential model : layer를 순차적으로 쌓는 모델\n",
    "    - Functional API     : 다중 출력, 비순환 그래프 모델, 레이어 공유 등 복잡한 구조의 모델 정의에 활용 "
   ]
  },
  {
   "cell_type": "code",
   "execution_count": null,
   "metadata": {
    "collapsed": true
   },
   "outputs": [],
   "source": [
    "## $pip install tensorflow\n",
    "## $conda install scipy\n",
    "## $pip install keras\n",
    "## $pip install h5py"
   ]
  },
  {
   "cell_type": "code",
   "execution_count": null,
   "metadata": {
    "collapsed": true
   },
   "outputs": [],
   "source": []
  },
  {
   "cell_type": "code",
   "execution_count": null,
   "metadata": {
    "collapsed": true
   },
   "outputs": [],
   "source": []
  }
 ],
 "metadata": {
  "kernelspec": {
   "display_name": "Python 3",
   "language": "python",
   "name": "python3"
  },
  "language_info": {
   "codemirror_mode": {
    "name": "ipython",
    "version": 3
   },
   "file_extension": ".py",
   "mimetype": "text/x-python",
   "name": "python",
   "nbconvert_exporter": "python",
   "pygments_lexer": "ipython3",
   "version": "3.5.3"
  }
 },
 "nbformat": 4,
 "nbformat_minor": 2
}
