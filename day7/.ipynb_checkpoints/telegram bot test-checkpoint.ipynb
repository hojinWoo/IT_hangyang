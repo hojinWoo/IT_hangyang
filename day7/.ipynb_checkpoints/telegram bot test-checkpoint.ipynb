{
 "cells": [
  {
   "cell_type": "markdown",
   "metadata": {
    "colab_type": "text",
    "id": "eJf-42yE5TsU"
   },
   "source": [
    "## Telegram Bot 만들기"
   ]
  },
  {
   "cell_type": "markdown",
   "metadata": {
    "colab_type": "text",
    "id": "miH4BteK4tfv"
   },
   "source": [
    "1. 텔레그램 가입 후에 검색에서 ‘BotFather’을 검색한다.\n",
    "2. BotFather 채널에서 시작 버튼을 누른다.\n",
    "3. /newbot을 채팅창에 입력하면 Username을 세팅하라고 뜬다. 이에 따라 Username을 채팅창에 입력해주면 bot의 이름이 할당된다. (이때 bot의 이름의 끝에는 bot이 붙어야 한다.)\n",
    "4. 이때 나오는 Token를 따로 저장한다. \n",
    "5. Bot을 작동시킬 채널을 만든다.\n",
    "6. 채널 페이지 오른쪽 위에서 채널관리 - 관리자 - 관리자 추가 의 순서를 통해 생성시킨 Bot을 관리자로 추가시킨다.\n",
    "7. (6)과 비슷한 방식으로 채널 페이지 오른쪽 위에서 채널관리 - 채널정보 - 링크 항목을 통하여 채널의 ID를 형성한다.\n",
    "8. 텔레그램 API를 이용하여 채널에 BOT이 메세지를 보내는데 필요한 인증 수단은 (4)과정에서 저장했던 Token Key와 (7)과정에서 만든 채널의 ID앞에 @값을 붙여준 ID값이 필요하다. 이러한 인증 수단을 바탕으로 텔레그램에 BOT을 바탕으로 샘플 메세지를 보내는 파이썬 코드는 아래와 같다."
   ]
  },
  {
   "cell_type": "code",
   "execution_count": 4,
   "metadata": {
    "colab": {
     "base_uri": "https://localhost:8080/",
     "height": 175
    },
    "colab_type": "code",
    "executionInfo": {
     "elapsed": 3973,
     "status": "ok",
     "timestamp": 1558131939381,
     "user": {
      "displayName": "Kyoung-Hun Bae",
      "photoUrl": "",
      "userId": "07494256597745077537"
     },
     "user_tz": -540
    },
    "id": "Uy1p5FsJv5m7",
    "outputId": "6553aacf-4202-4880-cffd-3cdd8f42b82e"
   },
   "outputs": [],
   "source": [
    "#!pip install python-telegram-bot\n",
    "import telegram"
   ]
  },
  {
   "cell_type": "code",
   "execution_count": 10,
   "metadata": {
    "colab": {
     "base_uri": "https://localhost:8080/",
     "height": 35
    },
    "colab_type": "code",
    "executionInfo": {
     "elapsed": 1464,
     "status": "ok",
     "timestamp": 1558131949127,
     "user": {
      "displayName": "Kyoung-Hun Bae",
      "photoUrl": "",
      "userId": "07494256597745077537"
     },
     "user_tz": -540
    },
    "id": "QM1mMVYSvhdU",
    "outputId": "35096a02-9679-44d2-ba64-21cad9d6d9df"
   },
   "outputs": [
    {
     "data": {
      "text/plain": [
       "<telegram.message.Message at 0x25aba7dec88>"
      ]
     },
     "execution_count": 10,
     "metadata": {},
     "output_type": "execute_result"
    }
   ],
   "source": [
    "telegram_bot = {\n",
    "    \"bot_token\" :  '804283533:AAHgb5R0FjYvmrGeuThQz-kPmu1KfxHiOWk',\n",
    "    \"channel_id\" : '@Hojinssol'\n",
    "} #channel_id는 주소(https://t.me/channel_id) // 앞에 @붙여야 함\n",
    "\n",
    "bot_token = telegram_bot['bot_token']\n",
    "id = telegram_bot[\"channel_id\"]\n",
    "\n",
    "# token key를 바탕으로 텔레그램 봇과 연결\n",
    "bot = telegram.Bot(token=bot_token)\n",
    "\n",
    "# text : 보낼 메세지, id : 채널 주소\n",
    "bot.sendMessage(chat_id=id, text=str(\"hello hi hojin\"), parse_mode=telegram.ParseMode.HTML)"
   ]
  },
  {
   "cell_type": "markdown",
   "metadata": {
    "colab_type": "text",
    "id": "K2uaNBT45vYx"
   },
   "source": [
    "## Dart에서 크롤링하기"
   ]
  },
  {
   "cell_type": "markdown",
   "metadata": {
    "colab_type": "text",
    "id": "HTk-ohvRzoZq"
   },
   "source": [
    "* http://dart.fss.or.kr/\n",
    "* 오른쪽 위 메뉴에서  ***오픈 API*** 클릭\n",
    "* 왼쪽 옆 메뉴에서  ***인증키 신청/관리*** 클릭\n",
    "* 왼쪽 옆 메뉴에서  ***오픈 API 개발가이드***  참조"
   ]
  },
  {
   "cell_type": "code",
   "execution_count": 0,
   "metadata": {
    "colab": {},
    "colab_type": "code",
    "collapsed": true,
    "id": "FLfuO3O9x6JV"
   },
   "outputs": [],
   "source": [
    "import requests\n",
    "from bs4 import BeautifulSoup\n",
    "import pandas as pd\n",
    "import lxml.html\n",
    "import re\n",
    "from urllib.request import urlopen"
   ]
  },
  {
   "cell_type": "code",
   "execution_count": 0,
   "metadata": {
    "colab": {},
    "colab_type": "code",
    "collapsed": true,
    "id": "vsTAjgo80xBo"
   },
   "outputs": [],
   "source": [
    "start_date = '20190101'\n",
    "end_date = '20190501'\n",
    "url = \"http://dart.fss.or.kr/api/search.xml?auth=d9ac976593727c70c17b01379996701a5bb4d1db&\" + \"&page_set=100&start_dt=\" + check_date + \"&end_dt=\" + end_date"
   ]
  },
  {
   "cell_type": "code",
   "execution_count": 0,
   "metadata": {
    "colab": {
     "base_uri": "https://localhost:8080/",
     "height": 35
    },
    "colab_type": "code",
    "executionInfo": {
     "elapsed": 620,
     "status": "ok",
     "timestamp": 1558132229942,
     "user": {
      "displayName": "Kyoung-Hun Bae",
      "photoUrl": "",
      "userId": "07494256597745077537"
     },
     "user_tz": -540
    },
    "id": "iMnTSwxP12D4",
    "outputId": "2075b99b-5856-4fbf-a384-792b51e0e73a"
   },
   "outputs": [
    {
     "data": {
      "text/plain": [
       "'http://dart.fss.or.kr/api/search.xml?auth=d9ac976593727c70c17b01379996701a5bb4d1db&&page_set=100&start_dt=20190201&end_dt=20190501'"
      ]
     },
     "execution_count": 52,
     "metadata": {
      "tags": []
     },
     "output_type": "execute_result"
    }
   ],
   "source": [
    "url"
   ]
  },
  {
   "cell_type": "code",
   "execution_count": 0,
   "metadata": {
    "colab": {},
    "colab_type": "code",
    "collapsed": true,
    "id": "3ZpmOcrx3ehK"
   },
   "outputs": [],
   "source": [
    "xmlsoup = BeautifulSoup(requests.get(url).text, \"html.parser\")"
   ]
  },
  {
   "cell_type": "code",
   "execution_count": 0,
   "metadata": {
    "colab": {},
    "colab_type": "code",
    "collapsed": true,
    "id": "YyKUkYFv3lv6"
   },
   "outputs": [],
   "source": [
    "te = xmlsoup.findAll(\"list\")"
   ]
  },
  {
   "cell_type": "code",
   "execution_count": 0,
   "metadata": {
    "colab": {
     "base_uri": "https://localhost:8080/",
     "height": 190
    },
    "colab_type": "code",
    "executionInfo": {
     "elapsed": 725,
     "status": "ok",
     "timestamp": 1558132299788,
     "user": {
      "displayName": "Kyoung-Hun Bae",
      "photoUrl": "",
      "userId": "07494256597745077537"
     },
     "user_tz": -540
    },
    "id": "WN8m463Q7AZi",
    "outputId": "405500ca-f3e1-4488-aa5a-2b992b22efe0"
   },
   "outputs": [
    {
     "data": {
      "text/plain": [
       "<list>\n",
       "<crp_cls>E</crp_cls>\n",
       "<crp_nm>코스닥시장본부</crp_nm>\n",
       "<crp_cd>00332149</crp_cd>\n",
       "<rpt_nm>기타시장안내(2019년 코스닥시장 공시내용 확인절차 면제법인 정기 지정 안내)</rpt_nm>\n",
       "<rcp_no>20190430901253</rcp_no>\n",
       "<flr_nm>코스닥시장본부</flr_nm>\n",
       "<rcp_dt>20190430</rcp_dt>\n",
       "<rmk>코</rmk>\n",
       "</list>"
      ]
     },
     "execution_count": 57,
     "metadata": {
      "tags": []
     },
     "output_type": "execute_result"
    }
   ],
   "source": [
    "te[0]"
   ]
  },
  {
   "cell_type": "code",
   "execution_count": 0,
   "metadata": {
    "colab": {
     "base_uri": "https://localhost:8080/",
     "height": 35
    },
    "colab_type": "code",
    "executionInfo": {
     "elapsed": 678,
     "status": "ok",
     "timestamp": 1558132325848,
     "user": {
      "displayName": "Kyoung-Hun Bae",
      "photoUrl": "",
      "userId": "07494256597745077537"
     },
     "user_tz": -540
    },
    "id": "0rFzybzz4NYP",
    "outputId": "eb382782-c97c-43b5-d165-fae990b3771c"
   },
   "outputs": [
    {
     "data": {
      "text/plain": [
       "'E'"
      ]
     },
     "execution_count": 59,
     "metadata": {
      "tags": []
     },
     "output_type": "execute_result"
    }
   ],
   "source": [
    "te[0].crp_cls.string"
   ]
  },
  {
   "cell_type": "code",
   "execution_count": 0,
   "metadata": {
    "colab": {},
    "colab_type": "code",
    "collapsed": true,
    "id": "U-XN5eQMx8b6"
   },
   "outputs": [],
   "source": [
    "def get_api_data(url):\n",
    "    xmlsoup = BeautifulSoup(requests.get(url).text, \"html.parser\")\n",
    "    data = pd.DataFrame()\n",
    "    te = xmlsoup.findAll(\"list\")\n",
    "    for t in te:\n",
    "        temp = pd.DataFrame(([[t.crp_cls.string, t.crp_nm.string, t.crp_cd.string, t.rpt_nm.string,\n",
    "                               t.rcp_no.string, t.flr_nm.string, t.rcp_dt.string, t.rmk.string]]),\n",
    "                            columns=[\"crp_cls\", \"crp_nm\", \"crp_cd\", \"rpt_nm\", \"rcp_no\", \"flr_nm\", \"rcp_dt\", \"rmk\"])\n",
    "        data = pd.concat([data, temp])\n",
    "    return data"
   ]
  },
  {
   "cell_type": "code",
   "execution_count": 0,
   "metadata": {
    "colab": {},
    "colab_type": "code",
    "collapsed": true,
    "id": "IUuo61qk73KF"
   },
   "outputs": [],
   "source": [
    "dataout = get_api_data(url)"
   ]
  },
  {
   "cell_type": "code",
   "execution_count": 0,
   "metadata": {
    "colab": {
     "base_uri": "https://localhost:8080/",
     "height": 55
    },
    "colab_type": "code",
    "executionInfo": {
     "elapsed": 818,
     "status": "ok",
     "timestamp": 1558132550619,
     "user": {
      "displayName": "Kyoung-Hun Bae",
      "photoUrl": "",
      "userId": "07494256597745077537"
     },
     "user_tz": -540
    },
    "id": "5IlXy2F978YR",
    "outputId": "fbf74d04-51fa-43d3-dac2-62e4e39353f8"
   },
   "outputs": [
    {
     "data": {
      "text/plain": [
       "'   crp_cls     crp_nm    crp_cd  ...   flr_nm    rcp_dt   rmk\\n0        E    코스닥시장본부  00332149  ...  코스닥시장본부  20190430     코\\n0        K     SK3호스팩    232330  ...  코스닥시장본부  20190430     코\\n0        K       오르비텍    046120  ...  코스닥시장본부  20190430     코\\n0        K       휴메딕스    200670  ...  코스닥시장본부  20190430     코\\n0        K        민앤지    214180  ...  코스닥시장본부  20190430     코\\n0        K      인선이엔티    060150  ...  코스닥시장본부  20190430     코\\n0        K        아난티    025980  ...  코스닥시장본부  20190430     코\\n0        K      CMG제약    058820  ...  코스닥시장본부  20190430     코\\n0        K     KG이니시스    035600  ...  코스닥시장본부  20190430     코\\n0        K      디지털대성    068930  ...  코스닥시장본부  20190430     코\\n0        K     셀트리온제약    068760  ...  코스닥시장본부  20190430     코\\n0        K        JTC    950170  ...      JTC  20190430     코\\n0        K       MP한강    219550  ...  코스닥시장본부  20190430     코\\n0        K     삼천리자전거    024950  ...  코스닥시장본부  20190430     코\\n0        K       세코닉스    053450  ...  코스닥시장본부  20190430     코\\n0        K      에스텍파마    041910  ...  코스닥시장본부  20190430     코\\n0        K    코오롱생명과학    102940  ...  코스닥시장본부  20190430     코\\n0        K         켐온    217600  ...  코스닥시장본부  20190430     코\\n0        K  파마리서치프로덕트    214450  ...  코스닥시장본부  20190430     코\\n0        K      씨아이에스    222080  ...  코스닥시장본부  20190430     코\\n0        K   알엔투테크놀로지    148250  ...  코스닥시장본부  20190430     코\\n0        K        미투온    201490  ...  코스닥시장본부  20190430     코\\n0        K       네오위즈    095660  ...  코스닥시장본부  20190430     코\\n0        K  씨티케이코스메틱스    260930  ...  코스닥시장본부  20190430     코\\n0        K       넥슨지티    041140  ...  코스닥시장본부  20190430     코\\n0        K    네오위즈홀딩스    042420  ...  코스닥시장본부  20190430     코\\n0        E   피델리티자산운용  00461609  ...    금융감독원  20190430  None\\n0        K  모바일어플라이언스    087260  ...  코스닥시장본부  20190430     코\\n0        K       인터불스    158310  ...  코스닥시장본부  20190430     코\\n0        K         세중    039310  ...  코스닥시장본부  20190430     코\\n..     ...        ...       ...  ...      ...       ...   ...\\n0        K       NE능률    053290  ...  코스닥시장본부  20190430     코\\n0        K      한컴지엠디    077280  ...  코스닥시장본부  20190430     코\\n0        K        SDN    099220  ...  코스닥시장본부  20190430     코\\n0        K   골프존뉴딘홀딩스    121440  ...  코스닥시장본부  20190430     코\\n0        K       인터파크    108790  ...  코스닥시장본부  20190430     코\\n0        K     비씨월드제약    200780  ...  코스닥시장본부  20190430     코\\n0        K        골프존    215000  ...  코스닥시장본부  20190430     코\\n0        K     한컴유니맥스    215090  ...  코스닥시장본부  20190430     코\\n0        K       동신건설    025950  ...  코스닥시장본부  20190430     코\\n0        K      우정바이오    215380  ...  코스닥시장본부  20190430     코\\n0        K      에이스침대    003800  ...  코스닥시장본부  20190430     코\\n0        K       현진소재    053660  ...  코스닥시장본부  20190430     코\\n0        K      KBI메탈    024840  ...  코스닥시장본부  20190430     코\\n0        K        파세코    037070  ...  코스닥시장본부  20190430     코\\n0        K     홈센타홀딩스    060560  ...  코스닥시장본부  20190430     코\\n0        K      심텍홀딩스    036710  ...  코스닥시장본부  20190430     코\\n0        K      대호피앤씨    021040  ...  코스닥시장본부  20190430     코\\n0        K      이건홀딩스    039020  ...  코스닥시장본부  20190430     코\\n0        K    THE E&M    089230  ...  코스닥시장본부  20190430     코\\n0        K        위닉스    044340  ...  코스닥시장본부  20190430     코\\n0        K        쎄니트    037760  ...  코스닥시장본부  20190430     코\\n0        K     나이스디앤비    130580  ...  코스닥시장본부  20190430     코\\n0        K    크린앤사이언스    045520  ...  코스닥시장본부  20190430     코\\n0        K       지니뮤직    043610  ...  코스닥시장본부  20190430     코\\n0        K        오스템    031510  ...  코스닥시장본부  20190430     코\\n0        K     지엔씨에너지    119850  ...  코스닥시장본부  20190430     코\\n0        K    SKC 솔믹스    057500  ...  코스닥시장본부  20190430     코\\n0        K     코데즈컴바인    047770  ...  코스닥시장본부  20190430     코\\n0        K        KTH    036030  ...  코스닥시장본부  20190430     코\\n0        K    리더스코스메틱    016100  ...  코스닥시장본부  20190430     코\\n\\n[100 rows x 8 columns]'"
      ]
     },
     "execution_count": 72,
     "metadata": {
      "tags": []
     },
     "output_type": "execute_result"
    }
   ],
   "source": [
    "str(dataout)"
   ]
  },
  {
   "cell_type": "code",
   "execution_count": 0,
   "metadata": {
    "colab": {
     "base_uri": "https://localhost:8080/",
     "height": 35
    },
    "colab_type": "code",
    "executionInfo": {
     "elapsed": 1591,
     "status": "ok",
     "timestamp": 1558132564990,
     "user": {
      "displayName": "Kyoung-Hun Bae",
      "photoUrl": "",
      "userId": "07494256597745077537"
     },
     "user_tz": -540
    },
    "id": "eyXD8dTuw1eu",
    "outputId": "bbeffb7a-01ff-4bab-8657-c9a3f63290c8"
   },
   "outputs": [
    {
     "data": {
      "text/plain": [
       "<telegram.message.Message at 0x7f52ab5769b0>"
      ]
     },
     "execution_count": 73,
     "metadata": {
      "tags": []
     },
     "output_type": "execute_result"
    }
   ],
   "source": [
    "telegram_bot = {\n",
    "    \"bot_token\" :  '739856777:AAHZFDHiQurKNBjp8AolgWwbPvCb3rEcO6o',\n",
    "    \"channel_id\" : '@Hanabae2'\n",
    "}\n",
    "\n",
    "bot_token = telegram_bot['bot_token']\n",
    "id = telegram_bot[\"channel_id\"]\n",
    "\n",
    "# token key를 바탕으로 텔레그램 봇과 연결\n",
    "bot = telegram.Bot(token=bot_token)\n",
    "\n",
    "# text : 보낼 메세지, id : 채널 주소\n",
    "bot.sendMessage(chat_id=id, text=str(dataout), parse_mode=telegram.ParseMode.HTML)"
   ]
  }
 ],
 "metadata": {
  "colab": {
   "collapsed_sections": [],
   "name": "telegram bot test.ipynb의 사본",
   "provenance": [
    {
     "file_id": "1RnKdHWyZxSUqGN97hOTeTaryprqm65ST",
     "timestamp": 1558138305519
    }
   ],
   "version": "0.3.2"
  },
  "kernelspec": {
   "display_name": "Python 3",
   "language": "python",
   "name": "python3"
  },
  "language_info": {
   "codemirror_mode": {
    "name": "ipython",
    "version": 3
   },
   "file_extension": ".py",
   "mimetype": "text/x-python",
   "name": "python",
   "nbconvert_exporter": "python",
   "pygments_lexer": "ipython3",
   "version": "3.6.1"
  }
 },
 "nbformat": 4,
 "nbformat_minor": 1
}
