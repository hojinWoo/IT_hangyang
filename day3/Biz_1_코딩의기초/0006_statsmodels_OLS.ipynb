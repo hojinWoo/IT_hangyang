{
  "nbformat": 4,
  "nbformat_minor": 0,
  "metadata": {
    "colab": {
      "name": "0006 statsmodels OLS.ipynb",
      "version": "0.3.2",
      "provenance": []
    },
    "kernelspec": {
      "name": "python3",
      "display_name": "Python 3"
    },
    "accelerator": "GPU"
  },
  "cells": [
    {
      "metadata": {
        "id": "gEs4vRilQ3Uo",
        "colab_type": "text"
      },
      "cell_type": "markdown",
      "source": [
        "# Ordinary Least Squares"
      ]
    },
    {
      "metadata": {
        "id": "rWxE78MuQ3Uq",
        "colab_type": "code",
        "outputId": "4c1073de-01a9-447a-a294-9eaace167ce2",
        "colab": {
          "base_uri": "https://localhost:8080/",
          "height": 187
        }
      },
      "cell_type": "code",
      "source": [
        "%matplotlib inline\n",
        "\n",
        "!pip install statsmodels \n",
        "from __future__ import print_function\n",
        "import numpy as np\n",
        "import statsmodels.api as sm\n",
        "import matplotlib.pyplot as plt\n",
        "from statsmodels.sandbox.regression.predstd import wls_prediction_std\n",
        "\n",
        "np.random.seed(9876789)"
      ],
      "execution_count": 0,
      "outputs": [
        {
          "output_type": "stream",
          "text": [
            "Requirement already satisfied: statsmodels in /usr/local/lib/python3.6/dist-packages (0.8.0)\n",
            "Requirement already satisfied: pandas in /usr/local/lib/python3.6/dist-packages (from statsmodels) (0.23.4)\n",
            "Requirement already satisfied: scipy in /usr/local/lib/python3.6/dist-packages (from statsmodels) (1.2.1)\n",
            "Requirement already satisfied: patsy in /usr/local/lib/python3.6/dist-packages (from statsmodels) (0.5.1)\n",
            "Requirement already satisfied: python-dateutil>=2.5.0 in /usr/local/lib/python3.6/dist-packages (from pandas->statsmodels) (2.5.3)\n",
            "Requirement already satisfied: pytz>=2011k in /usr/local/lib/python3.6/dist-packages (from pandas->statsmodels) (2018.9)\n",
            "Requirement already satisfied: numpy>=1.9.0 in /usr/local/lib/python3.6/dist-packages (from pandas->statsmodels) (1.16.2)\n",
            "Requirement already satisfied: six in /usr/local/lib/python3.6/dist-packages (from patsy->statsmodels) (1.11.0)\n"
          ],
          "name": "stdout"
        },
        {
          "output_type": "stream",
          "text": [
            "/usr/local/lib/python3.6/dist-packages/statsmodels/compat/pandas.py:56: FutureWarning: The pandas.core.datetools module is deprecated and will be removed in a future version. Please use the pandas.tseries module instead.\n",
            "  from pandas.core import datetools\n"
          ],
          "name": "stderr"
        }
      ]
    },
    {
      "metadata": {
        "id": "tE8k8CDSQ3Ut",
        "colab_type": "text"
      },
      "cell_type": "markdown",
      "source": [
        "## OLS estimation (OLS 추정)\n",
        "\n",
        "가상적인 데이터(Artificial data)를 이용하여 OLS를 연습한다. 우리의 모형은 다음과 같다. \n",
        "\n",
        "$$y = X \\beta + e $$\n",
        "\n",
        "일단 첫번째 단계로 다음 데이터를 생성해보자. 샘플 숫자는 편의상 100개로 하자(nsample = 100) .\n",
        "\n",
        "$$X, \\beta, e$$"
      ]
    },
    {
      "metadata": {
        "id": "7BAmL05bQ3Uu",
        "colab_type": "code",
        "colab": {}
      },
      "cell_type": "code",
      "source": [
        "nsample = 100 # 표본의 크기는 100으로 한다. \n",
        "x = np.linspace(0, 10, 100) # 0에서 10까지 숫자를 100구간으로 나눈다 (Try print(x.size))\n",
        "X = np.column_stack((x, x**2)) # x와 x**2 (x 제곱) 항을 이용 독립변수들을 만든다\n",
        "beta = np.array([1, 0.1, 10]) # beta는 종속변수와 독립변수를 연결하는 관찰할 수 없는 함수\n",
        "e = np.random.normal(size=nsample) # 현실의 관측치에 더해줄 에러"
      ],
      "execution_count": 0,
      "outputs": []
    },
    {
      "metadata": {
        "id": "3hteXTPeQ3Uw",
        "colab_type": "text"
      },
      "cell_type": "markdown",
      "source": [
        "회귀분석에서는 상수항을 더해주는 것이 보통이다. 따라서 *X*는 다음과 같이 된다. \n",
        "\n",
        "$$X = (1, \\vec{x}, \\vec{x}^2) $$"
      ]
    },
    {
      "metadata": {
        "id": "xtciT7hOQ3Ux",
        "colab_type": "code",
        "outputId": "7c4decb2-99b4-43bc-b507-83b2e68d9b38",
        "colab": {
          "base_uri": "https://localhost:8080/",
          "height": 102
        }
      },
      "cell_type": "code",
      "source": [
        "X = sm.add_constant(X)\n",
        "print(X[0:5,]) # X의 첫번째 5행을 확인\n",
        "y = np.dot(X, beta) + e # 이와 같이 데이터를 만들고 beta를 추정하고자 한다. "
      ],
      "execution_count": 0,
      "outputs": [
        {
          "output_type": "stream",
          "text": [
            "[[1.         0.         0.        ]\n",
            " [1.         0.1010101  0.01020304]\n",
            " [1.         0.2020202  0.04081216]\n",
            " [1.         0.3030303  0.09182736]\n",
            " [1.         0.4040404  0.16324865]]\n"
          ],
          "name": "stdout"
        }
      ]
    },
    {
      "metadata": {
        "id": "otmINDB4Q3Uz",
        "colab_type": "text"
      },
      "cell_type": "markdown",
      "source": [
        "beta를 추정하기 위하여 OLS 모형을 사용한다. \n",
        "\n",
        "$$\\hat{\\beta} = (X'X)^{-1}X'y $$\n"
      ]
    },
    {
      "metadata": {
        "id": "RQAeDSe1Q3U0",
        "colab_type": "code",
        "outputId": "4c4e1cbc-f3e3-4471-bc0f-4357fbc340b1",
        "colab": {
          "base_uri": "https://localhost:8080/",
          "height": 459
        }
      },
      "cell_type": "code",
      "source": [
        "model = sm.OLS(y, X) # 위 수식에 따른 OLS 모형 수립\n",
        "results = model.fit() # 추정(estimation)\n",
        "print(results.summary()) # 추정결과를 요약하여 보여주기"
      ],
      "execution_count": 0,
      "outputs": [
        {
          "output_type": "stream",
          "text": [
            "                            OLS Regression Results                            \n",
            "==============================================================================\n",
            "Dep. Variable:                      y   R-squared:                       1.000\n",
            "Model:                            OLS   Adj. R-squared:                  1.000\n",
            "Method:                 Least Squares   F-statistic:                 4.020e+06\n",
            "Date:                Mon, 15 Apr 2019   Prob (F-statistic):          2.83e-239\n",
            "Time:                        08:05:00   Log-Likelihood:                -146.51\n",
            "No. Observations:                 100   AIC:                             299.0\n",
            "Df Residuals:                      97   BIC:                             306.8\n",
            "Df Model:                           2                                         \n",
            "Covariance Type:            nonrobust                                         \n",
            "==============================================================================\n",
            "                 coef    std err          t      P>|t|      [0.025      0.975]\n",
            "------------------------------------------------------------------------------\n",
            "const          1.3423      0.313      4.292      0.000       0.722       1.963\n",
            "x1            -0.0402      0.145     -0.278      0.781      -0.327       0.247\n",
            "x2            10.0103      0.014    715.745      0.000       9.982      10.038\n",
            "==============================================================================\n",
            "Omnibus:                        2.042   Durbin-Watson:                   2.274\n",
            "Prob(Omnibus):                  0.360   Jarque-Bera (JB):                1.875\n",
            "Skew:                           0.234   Prob(JB):                        0.392\n",
            "Kurtosis:                       2.519   Cond. No.                         144.\n",
            "==============================================================================\n",
            "\n",
            "Warnings:\n",
            "[1] Standard Errors assume that the covariance matrix of the errors is correctly specified.\n"
          ],
          "name": "stdout"
        }
      ]
    },
    {
      "metadata": {
        "id": "q_4SG6ZbQ3U4",
        "colab_type": "text"
      },
      "cell_type": "markdown",
      "source": [
        "우리가 관심이 있는 추정된 beta를 숨겨진 진짜 beta와 비교해보자. 그리고 모형이 얼마나 데이터를 잘 맞추었는지( goodness of fit) R2 들을 살펴보자. 샘플 규모가 작아서 정확한 추정이 안된다. 그러나 샘플 규모를 늘리면 점점 더 정확한 모형이 된다. "
      ]
    },
    {
      "metadata": {
        "id": "bS_Au2jBQ3U4",
        "colab_type": "code",
        "outputId": "757afd27-5be0-404f-9dce-64ab4b87d5c8",
        "colab": {
          "base_uri": "https://localhost:8080/",
          "height": 85
        }
      },
      "cell_type": "code",
      "source": [
        "print('True Parameters: ', beta) # 우리는 이걸 관찰할 수 없다고 가정한다\n",
        "print('Parameters: ', results.params) # 우리가 데이터에서 추정한 숫자다\n",
        "print('R2: ', results.rsquared)\n",
        "print('Adjusted R2: ', results.rsquared_adj)"
      ],
      "execution_count": 0,
      "outputs": [
        {
          "output_type": "stream",
          "text": [
            "True Parameters:  [ 1.   0.1 10. ]\n",
            "Parameters:  [ 1.34233516 -0.04024948 10.01025357]\n",
            "R2:  0.9999879365025871\n",
            "Adjusted R2:  0.9999876877706817\n"
          ],
          "name": "stdout"
        }
      ]
    },
    {
      "metadata": {
        "id": "-jvm3rpUQ3U6",
        "colab_type": "text"
      },
      "cell_type": "markdown",
      "source": [
        "## OLS로 비선형함수 추정하기\n",
        "\n",
        "OLS는 매우 유연한 모형이다. 비선형함수도 OLS로 추정이 가능하다. 이를 위해서 x와 y간 비선형 함수를 시뮬레이션한 후 그 관계를 다시 추정해보자. 먼저 다음 식을 시뮬레이션을 한다. \n",
        "\n",
        "$$ y_i = 0.5*x_i +0.5*sin(x_i) -0.02*(x_i - 5)^2 + \\epsilon$$\n",
        "$$ i = 1, \\cdots , 50 $$\n",
        "$$ \\epsilon \\sim N(0, 0.5^2) $$\n",
        "\n",
        "데이터 과학자는 위 관계를 모른다고 가정한다. 단지 *y*와 *X*를 관찰한 후 관계를 통계적으로 추정하고자 한다. "
      ]
    },
    {
      "metadata": {
        "id": "qelY6v2JQ3U7",
        "colab_type": "code",
        "colab": {}
      },
      "cell_type": "code",
      "source": [
        "nsample = 50\n",
        "sig = 0.5\n",
        "x = np.linspace(0, 20, nsample)\n",
        "X = np.column_stack((x, np.sin(x), (x-5)**2, np.ones(nsample)))\n",
        "beta = [0.5, 0.5, -0.02, 5.]\n",
        "\n",
        "y_true = np.dot(X, beta) # 노이즈가 없는 y\n",
        "y = y_true + sig * np.random.normal(size=nsample) # 측정오차 등 감안한 노이즈 추가"
      ],
      "execution_count": 0,
      "outputs": []
    },
    {
      "metadata": {
        "id": "fUF5x-zYQ3U-",
        "colab_type": "text"
      },
      "cell_type": "markdown",
      "source": [
        "OLS로 관계를 추정해보자. "
      ]
    },
    {
      "metadata": {
        "id": "HQAicPFwQ3U-",
        "colab_type": "code",
        "outputId": "9e484dd9-7d36-4adb-9aba-7277b6b0bc2e",
        "colab": {
          "base_uri": "https://localhost:8080/",
          "height": 476
        }
      },
      "cell_type": "code",
      "source": [
        "res = sm.OLS(y, X).fit()\n",
        "print(res.summary())"
      ],
      "execution_count": 0,
      "outputs": [
        {
          "output_type": "stream",
          "text": [
            "                            OLS Regression Results                            \n",
            "==============================================================================\n",
            "Dep. Variable:                      y   R-squared:                       0.933\n",
            "Model:                            OLS   Adj. R-squared:                  0.928\n",
            "Method:                 Least Squares   F-statistic:                     211.8\n",
            "Date:                Mon, 15 Apr 2019   Prob (F-statistic):           6.30e-27\n",
            "Time:                        08:05:01   Log-Likelihood:                -34.438\n",
            "No. Observations:                  50   AIC:                             76.88\n",
            "Df Residuals:                      46   BIC:                             84.52\n",
            "Df Model:                           3                                         \n",
            "Covariance Type:            nonrobust                                         \n",
            "==============================================================================\n",
            "                 coef    std err          t      P>|t|      [0.025      0.975]\n",
            "------------------------------------------------------------------------------\n",
            "x1             0.4687      0.026     17.751      0.000       0.416       0.522\n",
            "x2             0.4836      0.104      4.659      0.000       0.275       0.693\n",
            "x3            -0.0174      0.002     -7.507      0.000      -0.022      -0.013\n",
            "const          5.2058      0.171     30.405      0.000       4.861       5.550\n",
            "==============================================================================\n",
            "Omnibus:                        0.655   Durbin-Watson:                   2.896\n",
            "Prob(Omnibus):                  0.721   Jarque-Bera (JB):                0.360\n",
            "Skew:                           0.207   Prob(JB):                        0.835\n",
            "Kurtosis:                       3.026   Cond. No.                         221.\n",
            "==============================================================================\n",
            "\n",
            "Warnings:\n",
            "[1] Standard Errors assume that the covariance matrix of the errors is correctly specified.\n"
          ],
          "name": "stdout"
        }
      ]
    },
    {
      "metadata": {
        "id": "XeQBd5veQ3VB",
        "colab_type": "text"
      },
      "cell_type": "markdown",
      "source": [
        "관심이 있는 추정치들을 살펴보자. 우리가 추정한 계수, 표준에러(standard errors), 그리고 우리가 예측한 *y*값들을 살펴보자. 데이터 과학자들은 표준에러 크기가 계수의 1/2 이하면 계수가 통계적으로 의미있다고 보는 경향이 있다. 계수와 표준에러의 비율이 t값(t-value)라고 하는데 마찬가지로 t 값의 절대값이 2보다 크면 통계적으로 의미있다고 보는 경향이 있다. "
      ]
    },
    {
      "metadata": {
        "id": "sGCwP9NvQ3VC",
        "colab_type": "code",
        "outputId": "dc3a24b8-ddac-4717-8a30-87d3850b1e90",
        "colab": {
          "base_uri": "https://localhost:8080/",
          "height": 221
        }
      },
      "cell_type": "code",
      "source": [
        "print('Parameters: ', res.params)\n",
        "print('Standard errors: ', res.bse)\n",
        "print('t-values: ', res.tvalues)\n",
        "print('Predicted values: ', res.predict())"
      ],
      "execution_count": 0,
      "outputs": [
        {
          "output_type": "stream",
          "text": [
            "Parameters:  [ 0.46872448  0.48360119 -0.01740479  5.20584496]\n",
            "Standard errors:  [0.02640602 0.10380518 0.00231847 0.17121765]\n",
            "t-values:  [17.75066497  4.65873853 -7.50702251 30.40483804]\n",
            "Predicted values:  [ 4.77072516  5.22213464  5.63620761  5.98658823  6.25643234  6.44117491\n",
            "  6.54928009  6.60085051  6.62432454  6.6518039   6.71377946  6.83412169\n",
            "  7.02615877  7.29048685  7.61487206  7.97626054  8.34456611  8.68761335\n",
            "  8.97642389  9.18997755  9.31866582  9.36587056  9.34740836  9.28893189\n",
            "  9.22171529  9.17751587  9.1833565   9.25708583  9.40444579  9.61812821\n",
            "  9.87897556 10.15912843 10.42660281 10.65054491 10.8063004  10.87946503\n",
            " 10.86825119 10.78378163 10.64826203 10.49133265 10.34519853 10.23933827\n",
            " 10.19566084 10.22490593 10.32487947 10.48081414 10.66779556 10.85485568\n",
            " 11.01006072 11.10575781]\n"
          ],
          "name": "stdout"
        }
      ]
    },
    {
      "metadata": {
        "id": "O0cyRtKuQ3VE",
        "colab_type": "text"
      },
      "cell_type": "markdown",
      "source": [
        "실제 y와 우리가 추정한 y를 비교해보자. ``wls_prediction_std`` command 를 이용하여 신뢰구간도 표시해보자. "
      ]
    },
    {
      "metadata": {
        "id": "0f60yGwAQ3VF",
        "colab_type": "code",
        "outputId": "3d8fcc54-226e-446f-d49e-e222d4ecc2d5",
        "colab": {
          "base_uri": "https://localhost:8080/",
          "height": 395
        }
      },
      "cell_type": "code",
      "source": [
        "prstd, iv_l, iv_u = wls_prediction_std(res) #추정값, 신뢰구간 상단과 하단\n",
        "\n",
        "fig, ax = plt.subplots(figsize=(8,6)) # 그림 크기 지정\n",
        "\n",
        "ax.plot(x, y, 'o', label=\"data\") # 데이터는 동그라미로 표시\n",
        "ax.plot(x, y_true, 'b-', label=\"True\") # 파라선으로 실제값 표시\n",
        "ax.plot(x, res.fittedvalues, 'r--.', label=\"OLS\") # 빨간 점선으로 추정값 표시\n",
        "ax.plot(x, iv_u, 'r--') # 신뢰구간 상단\n",
        "ax.plot(x, iv_l, 'r--') # 신뢰구간 하단\n",
        "ax.legend(loc='best') # 범례(legend) 삽입"
      ],
      "execution_count": 0,
      "outputs": [
        {
          "output_type": "execute_result",
          "data": {
            "text/plain": [
              "<matplotlib.legend.Legend at 0x7f12a1fa9a58>"
            ]
          },
          "metadata": {
            "tags": []
          },
          "execution_count": 9
        },
        {
          "output_type": "display_data",
          "data": {
            "image/png": "[encoded data removed]",
            "text/plain": [
              "<Figure size 576x432 with 1 Axes>"
            ]
          },
          "metadata": {
            "tags": []
          }
        }
      ]
    },
    {
      "metadata": {
        "id": "2jcjOIMrQ3VH",
        "colab_type": "text"
      },
      "cell_type": "markdown",
      "source": [
        "## 더미변수 (dummy variables)\n",
        "\n",
        "우리의 가상적인 데이터에는 3개의 그룹이 있다: Group 0, Group 1, Group 2. Group 0를 기본 사례(base case)로 가정하고 Group 1과 Group 2가 Group 0와 어떻게 다른지 살펴보자. "
      ]
    },
    {
      "metadata": {
        "id": "cMadNW9sQ3VI",
        "colab_type": "code",
        "colab": {}
      },
      "cell_type": "code",
      "source": [
        "nsample = 50\n",
        "groups = np.zeros(nsample, int)\n",
        "groups[20:40] = 1\n",
        "groups[40:] = 2\n",
        "#dummy = (groups[:,None] == np.unique(groups)).astype(float)\n",
        "\n",
        "dummy = sm.categorical(groups, drop=True) # 그룹 이름은 굳이 필요 없으므로 drop하고 더미변수 생성\n",
        "# print(dummy)\n",
        "x = np.linspace(0, 20, nsample)\n",
        "# drop reference category\n",
        "X = np.column_stack((x, dummy[:,1:])) # 기본사례는 제외\n",
        "X = sm.add_constant(X, prepend=False) # 상수항을 마지막으로 \n",
        "\n",
        "beta = [1., 3, -3, 10]\n",
        "y_true = np.dot(X, beta)\n",
        "e = np.random.normal(size=nsample)\n",
        "y = y_true + e"
      ],
      "execution_count": 0,
      "outputs": []
    },
    {
      "metadata": {
        "id": "CjPUdEXsQ3VK",
        "colab_type": "text"
      },
      "cell_type": "markdown",
      "source": [
        "데이터를 검사한다. "
      ]
    },
    {
      "metadata": {
        "id": "UVclK049Q3VL",
        "colab_type": "code",
        "outputId": "1935e707-1ba5-411a-c8a2-ef72b14476c1",
        "colab": {
          "base_uri": "https://localhost:8080/",
          "height": 238
        }
      },
      "cell_type": "code",
      "source": [
        "print(X[:5,:])\n",
        "print(y[:5])\n",
        "print(groups)\n",
        "print(dummy[:5,:])"
      ],
      "execution_count": 0,
      "outputs": [
        {
          "output_type": "stream",
          "text": [
            "[[0.         0.         0.         1.        ]\n",
            " [0.40816327 0.         0.         1.        ]\n",
            " [0.81632653 0.         0.         1.        ]\n",
            " [1.2244898  0.         0.         1.        ]\n",
            " [1.63265306 0.         0.         1.        ]]\n",
            "[ 9.28223335 10.50481865 11.84389206 10.38508408 12.37941998]\n",
            "[0 0 0 0 0 0 0 0 0 0 0 0 0 0 0 0 0 0 0 0 1 1 1 1 1 1 1 1 1 1 1 1 1 1 1 1 1\n",
            " 1 1 1 2 2 2 2 2 2 2 2 2 2]\n",
            "[[1. 0. 0.]\n",
            " [1. 0. 0.]\n",
            " [1. 0. 0.]\n",
            " [1. 0. 0.]\n",
            " [1. 0. 0.]]\n"
          ],
          "name": "stdout"
        }
      ]
    },
    {
      "metadata": {
        "id": "12slFcb0Q3VN",
        "colab_type": "text"
      },
      "cell_type": "markdown",
      "source": [
        "모형을 추정하고 결과를 본다. "
      ]
    },
    {
      "metadata": {
        "id": "E2ia-q_EQ3VO",
        "colab_type": "code",
        "outputId": "fdbda0fc-dc58-423e-9d8b-d397ce87a2a9",
        "colab": {
          "base_uri": "https://localhost:8080/",
          "height": 476
        }
      },
      "cell_type": "code",
      "source": [
        "res2 = sm.OLS(y, X).fit()\n",
        "print(res2.summary())"
      ],
      "execution_count": 0,
      "outputs": [
        {
          "output_type": "stream",
          "text": [
            "                            OLS Regression Results                            \n",
            "==============================================================================\n",
            "Dep. Variable:                      y   R-squared:                       0.978\n",
            "Model:                            OLS   Adj. R-squared:                  0.976\n",
            "Method:                 Least Squares   F-statistic:                     671.7\n",
            "Date:                Mon, 15 Apr 2019   Prob (F-statistic):           5.69e-38\n",
            "Time:                        08:05:01   Log-Likelihood:                -64.643\n",
            "No. Observations:                  50   AIC:                             137.3\n",
            "Df Residuals:                      46   BIC:                             144.9\n",
            "Df Model:                           3                                         \n",
            "Covariance Type:            nonrobust                                         \n",
            "==============================================================================\n",
            "                 coef    std err          t      P>|t|      [0.025      0.975]\n",
            "------------------------------------------------------------------------------\n",
            "x1             0.9999      0.060     16.689      0.000       0.879       1.121\n",
            "x2             2.8909      0.569      5.081      0.000       1.746       4.036\n",
            "x3            -3.2232      0.927     -3.477      0.001      -5.089      -1.357\n",
            "const         10.1031      0.310     32.573      0.000       9.479      10.727\n",
            "==============================================================================\n",
            "Omnibus:                        2.831   Durbin-Watson:                   1.998\n",
            "Prob(Omnibus):                  0.243   Jarque-Bera (JB):                1.927\n",
            "Skew:                          -0.279   Prob(JB):                        0.382\n",
            "Kurtosis:                       2.217   Cond. No.                         96.3\n",
            "==============================================================================\n",
            "\n",
            "Warnings:\n",
            "[1] Standard Errors assume that the covariance matrix of the errors is correctly specified.\n"
          ],
          "name": "stdout"
        }
      ]
    },
    {
      "metadata": {
        "id": "76jqzwAtQ3VQ",
        "colab_type": "text"
      },
      "cell_type": "markdown",
      "source": [
        "참관계(true relationship)과 추정된 관계(estimated relationship를 비교해보자. "
      ]
    },
    {
      "metadata": {
        "id": "ihVMpXNOQ3VQ",
        "colab_type": "code",
        "outputId": "299f476c-35d2-410c-ea56-2d4bd5c644f3",
        "colab": {
          "base_uri": "https://localhost:8080/",
          "height": 378
        }
      },
      "cell_type": "code",
      "source": [
        "prstd, iv_l, iv_u = wls_prediction_std(res2)\n",
        "\n",
        "fig, ax = plt.subplots(figsize=(8,6))\n",
        "\n",
        "ax.plot(x, y, 'o', label=\"Data\")\n",
        "ax.plot(x, y_true, 'b-', label=\"True\")\n",
        "ax.plot(x, res2.fittedvalues, 'r--.', label=\"Predicted\")\n",
        "ax.plot(x, iv_u, 'r--')\n",
        "ax.plot(x, iv_l, 'r--')\n",
        "legend = ax.legend(loc=\"best\")"
      ],
      "execution_count": 0,
      "outputs": [
        {
          "output_type": "display_data",
          "data": {
            "image/png": "[encoded data removed]",
            "text/plain": [
              "<Figure size 576x432 with 1 Axes>"
            ]
          },
          "metadata": {
            "tags": []
          }
        }
      ]
    },
    {
      "metadata": {
        "id": "ZYWPmFs7gmt3",
        "colab_type": "text"
      },
      "cell_type": "markdown",
      "source": [
        "이하는 고급과정이므로 관심이 있는 학생은 스스로 공부한다. "
      ]
    },
    {
      "metadata": {
        "id": "EqTyil2eQ3VT",
        "colab_type": "text"
      },
      "cell_type": "markdown",
      "source": [
        "## Joint hypothesis test\n",
        "\n",
        "### F test\n",
        "\n",
        "We want to test the hypothesis that both coefficients on the dummy variables are equal to zero, that is, $R \\times \\beta = 0$. An F test leads us to strongly reject the null hypothesis of identical constant in the 3 groups:"
      ]
    },
    {
      "metadata": {
        "id": "manT-brqQ3VU",
        "colab_type": "code",
        "outputId": "5d29616a-f27b-4cd6-b1de-1191718e194a",
        "colab": {
          "base_uri": "https://localhost:8080/",
          "height": 68
        }
      },
      "cell_type": "code",
      "source": [
        "R = [[0, 1, 0, 0], [0, 0, 1, 0]]\n",
        "print(np.array(R))\n",
        "print(res2.f_test(R))"
      ],
      "execution_count": 0,
      "outputs": [
        {
          "output_type": "stream",
          "text": [
            "[[0 1 0 0]\n",
            " [0 0 1 0]]\n",
            "<F test: F=array([[145.49268198]]), p=1.2834419617281953e-20, df_denom=46, df_num=2>\n"
          ],
          "name": "stdout"
        }
      ]
    },
    {
      "metadata": {
        "id": "48fDyz9tQ3VY",
        "colab_type": "text"
      },
      "cell_type": "markdown",
      "source": [
        "You can also use formula-like syntax to test hypotheses"
      ]
    },
    {
      "metadata": {
        "id": "K5GJQWMQQ3VZ",
        "colab_type": "code",
        "outputId": "6ae90500-9326-4ff6-f70e-b0c9c7d07478",
        "colab": {
          "base_uri": "https://localhost:8080/",
          "height": 34
        }
      },
      "cell_type": "code",
      "source": [
        "print(res2.f_test(\"x2 = x3 = 0\"))"
      ],
      "execution_count": 0,
      "outputs": [
        {
          "output_type": "stream",
          "text": [
            "<F test: F=array([[145.49268198]]), p=1.2834419617282134e-20, df_denom=46, df_num=2>\n"
          ],
          "name": "stdout"
        }
      ]
    },
    {
      "metadata": {
        "id": "gNOOcvx2Q3Vb",
        "colab_type": "text"
      },
      "cell_type": "markdown",
      "source": [
        "### Small group effects\n",
        "\n",
        "If we generate artificial data with smaller group effects, the T test can no longer reject the Null hypothesis: "
      ]
    },
    {
      "metadata": {
        "id": "gBRTTDKfQ3Vc",
        "colab_type": "code",
        "colab": {}
      },
      "cell_type": "code",
      "source": [
        "beta = [1., 0.3, -0.0, 10]\n",
        "y_true = np.dot(X, beta)\n",
        "y = y_true + np.random.normal(size=nsample)\n",
        "\n",
        "res3 = sm.OLS(y, X).fit()"
      ],
      "execution_count": 0,
      "outputs": []
    },
    {
      "metadata": {
        "id": "ooQfgppVQ3Ve",
        "colab_type": "code",
        "outputId": "a2a23a45-6395-4f1d-e420-7fbade6f9aa0",
        "colab": {
          "base_uri": "https://localhost:8080/",
          "height": 34
        }
      },
      "cell_type": "code",
      "source": [
        "print(res3.f_test(R))"
      ],
      "execution_count": 0,
      "outputs": [
        {
          "output_type": "stream",
          "text": [
            "<F test: F=array([[1.22491119]]), p=0.3031864410631272, df_denom=46, df_num=2>\n"
          ],
          "name": "stdout"
        }
      ]
    },
    {
      "metadata": {
        "id": "mWlauu8HQ3Vg",
        "colab_type": "code",
        "outputId": "4499cd22-3c5b-483b-a4af-f8ddc6ae89e3",
        "colab": {
          "base_uri": "https://localhost:8080/",
          "height": 34
        }
      },
      "cell_type": "code",
      "source": [
        "print(res3.f_test(\"x2 = x3 = 0\"))"
      ],
      "execution_count": 0,
      "outputs": [
        {
          "output_type": "stream",
          "text": [
            "<F test: F=array([[1.22491119]]), p=0.3031864410631272, df_denom=46, df_num=2>\n"
          ],
          "name": "stdout"
        }
      ]
    },
    {
      "metadata": {
        "id": "QZsIhgL-Q3Vi",
        "colab_type": "text"
      },
      "cell_type": "markdown",
      "source": [
        "### Multicollinearity\n",
        "\n",
        "The Longley dataset is well known to have high multicollinearity. That is, the exogenous predictors are highly correlated. This is problematic because it can affect the stability of our coefficient estimates as we make minor changes to model specification. "
      ]
    },
    {
      "metadata": {
        "id": "MmgCfYeUQ3Vj",
        "colab_type": "code",
        "colab": {}
      },
      "cell_type": "code",
      "source": [
        "from statsmodels.datasets.longley import load_pandas\n",
        "y = load_pandas().endog\n",
        "X = load_pandas().exog\n",
        "X = sm.add_constant(X)"
      ],
      "execution_count": 0,
      "outputs": []
    },
    {
      "metadata": {
        "id": "p5A0M9h8Q3Vl",
        "colab_type": "text"
      },
      "cell_type": "markdown",
      "source": [
        "Fit and summary:"
      ]
    },
    {
      "metadata": {
        "id": "bZqVZ8ZBQ3Vl",
        "colab_type": "code",
        "outputId": "75b818fb-0fef-4cdf-8899-d6f23450b9af",
        "colab": {
          "base_uri": "https://localhost:8080/",
          "height": 595
        }
      },
      "cell_type": "code",
      "source": [
        "ols_model = sm.OLS(y, X)\n",
        "ols_results = ols_model.fit()\n",
        "print(ols_results.summary())"
      ],
      "execution_count": 0,
      "outputs": [
        {
          "output_type": "stream",
          "text": [
            "                            OLS Regression Results                            \n",
            "==============================================================================\n",
            "Dep. Variable:                 TOTEMP   R-squared:                       0.995\n",
            "Model:                            OLS   Adj. R-squared:                  0.992\n",
            "Method:                 Least Squares   F-statistic:                     330.3\n",
            "Date:                Mon, 15 Apr 2019   Prob (F-statistic):           4.98e-10\n",
            "Time:                        08:05:02   Log-Likelihood:                -109.62\n",
            "No. Observations:                  16   AIC:                             233.2\n",
            "Df Residuals:                       9   BIC:                             238.6\n",
            "Df Model:                           6                                         \n",
            "Covariance Type:            nonrobust                                         \n",
            "==============================================================================\n",
            "                 coef    std err          t      P>|t|      [0.025      0.975]\n",
            "------------------------------------------------------------------------------\n",
            "const      -3.482e+06    8.9e+05     -3.911      0.004    -5.5e+06   -1.47e+06\n",
            "GNPDEFL       15.0619     84.915      0.177      0.863    -177.029     207.153\n",
            "GNP           -0.0358      0.033     -1.070      0.313      -0.112       0.040\n",
            "UNEMP         -2.0202      0.488     -4.136      0.003      -3.125      -0.915\n",
            "ARMED         -1.0332      0.214     -4.822      0.001      -1.518      -0.549\n",
            "POP           -0.0511      0.226     -0.226      0.826      -0.563       0.460\n",
            "YEAR        1829.1515    455.478      4.016      0.003     798.788    2859.515\n",
            "==============================================================================\n",
            "Omnibus:                        0.749   Durbin-Watson:                   2.559\n",
            "Prob(Omnibus):                  0.688   Jarque-Bera (JB):                0.684\n",
            "Skew:                           0.420   Prob(JB):                        0.710\n",
            "Kurtosis:                       2.434   Cond. No.                     4.86e+09\n",
            "==============================================================================\n",
            "\n",
            "Warnings:\n",
            "[1] Standard Errors assume that the covariance matrix of the errors is correctly specified.\n",
            "[2] The condition number is large, 4.86e+09. This might indicate that there are\n",
            "strong multicollinearity or other numerical problems.\n"
          ],
          "name": "stdout"
        },
        {
          "output_type": "stream",
          "text": [
            "/usr/local/lib/python3.6/dist-packages/scipy/stats/stats.py:1416: UserWarning: kurtosistest only valid for n>=20 ... continuing anyway, n=16\n",
            "  \"anyway, n=%i\" % int(n))\n"
          ],
          "name": "stderr"
        }
      ]
    },
    {
      "metadata": {
        "id": "037Ekj0YQ3Vn",
        "colab_type": "text"
      },
      "cell_type": "markdown",
      "source": [
        "#### Condition number\n",
        "\n",
        "One way to assess multicollinearity is to compute the condition number. Values over 20 are worrisome (see Greene 4.9). The first step is to normalize the independent variables to have unit length: "
      ]
    },
    {
      "metadata": {
        "id": "HZlPVoP_Q3Vo",
        "colab_type": "code",
        "colab": {}
      },
      "cell_type": "code",
      "source": [
        "norm_x = X.values\n",
        "for i, name in enumerate(X):\n",
        "    if name == \"const\":\n",
        "        continue\n",
        "    norm_x[:,i] = X[name]/np.linalg.norm(X[name])\n",
        "norm_xtx = np.dot(norm_x.T,norm_x)"
      ],
      "execution_count": 0,
      "outputs": []
    },
    {
      "metadata": {
        "id": "leqxYhVdQ3Vr",
        "colab_type": "text"
      },
      "cell_type": "markdown",
      "source": [
        "Then, we take the square root of the ratio of the biggest to the smallest eigen values. "
      ]
    },
    {
      "metadata": {
        "id": "griGIRZ6Q3Vs",
        "colab_type": "code",
        "outputId": "7843b410-b265-4bc6-c509-2b60fb2363d9",
        "colab": {
          "base_uri": "https://localhost:8080/",
          "height": 34
        }
      },
      "cell_type": "code",
      "source": [
        "eigs = np.linalg.eigvals(norm_xtx)\n",
        "condition_number = np.sqrt(eigs.max() / eigs.min())\n",
        "print(condition_number)"
      ],
      "execution_count": 0,
      "outputs": [
        {
          "output_type": "stream",
          "text": [
            "56240.87037739987\n"
          ],
          "name": "stdout"
        }
      ]
    },
    {
      "metadata": {
        "id": "rIJvMqpsQ3Vt",
        "colab_type": "text"
      },
      "cell_type": "markdown",
      "source": [
        "#### Dropping an observation\n",
        "\n",
        "Greene also points out that dropping a single observation can have a dramatic effect on the coefficient estimates: "
      ]
    },
    {
      "metadata": {
        "id": "ffzL7m3-Q3Vu",
        "colab_type": "code",
        "outputId": "89d7f58b-950c-4685-ffa5-999536f9f4ad",
        "colab": {
          "base_uri": "https://localhost:8080/",
          "height": 153
        }
      },
      "cell_type": "code",
      "source": [
        "ols_results2 = sm.OLS(y.iloc[:14], X.iloc[:14]).fit()\n",
        "print(\"Percentage change %4.2f%%\\n\"*7 % tuple([i for i in (ols_results2.params - ols_results.params)/ols_results.params*100]))"
      ],
      "execution_count": 0,
      "outputs": [
        {
          "output_type": "stream",
          "text": [
            "Percentage change 4.55%\n",
            "Percentage change -2228.01%\n",
            "Percentage change 154304695.31%\n",
            "Percentage change 1366329.02%\n",
            "Percentage change 1112549.36%\n",
            "Percentage change 92708715.91%\n",
            "Percentage change 817944.26%\n",
            "\n"
          ],
          "name": "stdout"
        }
      ]
    },
    {
      "metadata": {
        "id": "pLKvB9o4Q3Vw",
        "colab_type": "text"
      },
      "cell_type": "markdown",
      "source": [
        "We can also look at formal statistics for this such as the DFBETAS -- a standardized measure of how much each coefficient changes when that observation is left out."
      ]
    },
    {
      "metadata": {
        "id": "YxuGKq1rQ3Vx",
        "colab_type": "code",
        "colab": {}
      },
      "cell_type": "code",
      "source": [
        "infl = ols_results.get_influence()"
      ],
      "execution_count": 0,
      "outputs": []
    },
    {
      "metadata": {
        "id": "TR_Vt1BQQ3Vz",
        "colab_type": "text"
      },
      "cell_type": "markdown",
      "source": [
        "In general we may consider DBETAS in absolute value greater than $2/\\sqrt{N}$ to be influential observations"
      ]
    },
    {
      "metadata": {
        "id": "LmQocfjcQ3V1",
        "colab_type": "code",
        "outputId": "352a4b06-a7f8-4f42-dd80-2fe499b89b80",
        "colab": {
          "base_uri": "https://localhost:8080/",
          "height": 34
        }
      },
      "cell_type": "code",
      "source": [
        "2./len(X)**.5"
      ],
      "execution_count": 0,
      "outputs": [
        {
          "output_type": "execute_result",
          "data": {
            "text/plain": [
              "0.5"
            ]
          },
          "metadata": {
            "tags": []
          },
          "execution_count": 25
        }
      ]
    },
    {
      "metadata": {
        "id": "mCa2y3e0Q3V2",
        "colab_type": "code",
        "outputId": "db9bbb5a-cfd2-44a4-992b-10c7c7057222",
        "colab": {
          "base_uri": "https://localhost:8080/",
          "height": 816
        }
      },
      "cell_type": "code",
      "source": [
        "print(infl.summary_frame().filter(regex=\"dfb\"))"
      ],
      "execution_count": 0,
      "outputs": [
        {
          "output_type": "stream",
          "text": [
            "    dfb_const  dfb_GNPDEFL       dfb_GNP     dfb_UNEMP     dfb_ARMED  \\\n",
            "0   -0.016406  -169.822675  1.673981e+06  54490.318088  51447.824036   \n",
            "1   -0.020608  -187.251727  1.829990e+06  54495.312977  52659.808664   \n",
            "2   -0.008382   -65.417834  1.587601e+06  52002.330476  49078.352378   \n",
            "3    0.018093   288.503914  1.155359e+06  56211.331922  60350.723082   \n",
            "4    1.871260  -171.109595  4.498197e+06  82532.785818  71034.429294   \n",
            "5   -0.321373  -104.123822  1.398891e+06  52559.760056  47486.527649   \n",
            "6    0.315945  -169.413317  2.364827e+06  59754.651394  50371.817827   \n",
            "7    0.015816   -69.343793  1.641243e+06  51849.056936  48628.749338   \n",
            "8   -0.004019   -86.903523  1.649443e+06  52023.265116  49114.178265   \n",
            "9   -1.018242  -201.315802  1.371257e+06  56432.027292  53997.742487   \n",
            "10   0.030947   -78.359439  1.658753e+06  52254.848135  49341.055289   \n",
            "11   0.005987  -100.926843  1.662425e+06  51744.606934  48968.560299   \n",
            "12  -0.135883   -32.093127  1.245487e+06  50203.467593  51148.376274   \n",
            "13   0.032736   -78.513866  1.648417e+06  52509.194459  50212.844641   \n",
            "14   0.305868   -16.833121  1.829996e+06  60975.868083  58263.878679   \n",
            "15  -0.538323   102.027105  1.344844e+06  54721.897640  49660.474568   \n",
            "\n",
            "          dfb_POP      dfb_YEAR  \n",
            "0   207954.113589 -31969.158503  \n",
            "1    25343.938290 -29760.155888  \n",
            "2   107465.770565 -29593.195253  \n",
            "3   456190.215133 -36213.129569  \n",
            "4  -389122.401699 -49905.782854  \n",
            "5   144354.586054 -28985.057609  \n",
            "6  -107413.074918 -32984.462465  \n",
            "7    92843.959345 -29724.975873  \n",
            "8    83931.635336 -29563.619222  \n",
            "9    18392.575057 -29203.217108  \n",
            "10   93617.648517 -29846.022426  \n",
            "11   95414.217290 -29690.904188  \n",
            "12  258559.048569 -29296.334617  \n",
            "13  104434.061226 -30025.564763  \n",
            "14  275103.677859 -36060.612522  \n",
            "15 -110176.960671 -28053.834556  \n"
          ],
          "name": "stdout"
        },
        {
          "output_type": "stream",
          "text": [
            "/usr/local/lib/python3.6/dist-packages/statsmodels/stats/outliers_influence.py:309: RuntimeWarning: invalid value encountered in sqrt\n",
            "  return  self.results.resid / sigma / np.sqrt(1 - hii)\n",
            "/usr/local/lib/python3.6/dist-packages/scipy/stats/_distn_infrastructure.py:877: RuntimeWarning: invalid value encountered in greater\n",
            "  return (self.a < x) & (x < self.b)\n",
            "/usr/local/lib/python3.6/dist-packages/scipy/stats/_distn_infrastructure.py:877: RuntimeWarning: invalid value encountered in less\n",
            "  return (self.a < x) & (x < self.b)\n",
            "/usr/local/lib/python3.6/dist-packages/scipy/stats/_distn_infrastructure.py:1831: RuntimeWarning: invalid value encountered in less_equal\n",
            "  cond2 = cond0 & (x <= self.a)\n",
            "/usr/local/lib/python3.6/dist-packages/statsmodels/stats/outliers_influence.py:323: RuntimeWarning: invalid value encountered in sqrt\n",
            "  dffits_ = self.resid_studentized_internal * np.sqrt(hii / (1 - hii))\n",
            "/usr/local/lib/python3.6/dist-packages/statsmodels/stats/outliers_influence.py:352: RuntimeWarning: invalid value encountered in sqrt\n",
            "  dffits_ = self.resid_studentized_external * np.sqrt(hii / (1 - hii))\n"
          ],
          "name": "stderr"
        }
      ]
    }
  ]
}